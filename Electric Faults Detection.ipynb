{
 "cells": [
  {
   "cell_type": "code",
   "execution_count": 1,
   "id": "c8bdce1a",
   "metadata": {},
   "outputs": [],
   "source": [
    "import pandas as pd\n",
    "import seaborn as sns"
   ]
  },
  {
   "cell_type": "code",
   "execution_count": 2,
   "id": "e9382667",
   "metadata": {},
   "outputs": [],
   "source": [
    "data= pd.read_csv('detect_dataset.csv')"
   ]
  },
  {
   "cell_type": "code",
   "execution_count": 3,
   "id": "43dd9865",
   "metadata": {},
   "outputs": [
    {
     "data": {
      "text/html": [
       "<div>\n",
       "<style scoped>\n",
       "    .dataframe tbody tr th:only-of-type {\n",
       "        vertical-align: middle;\n",
       "    }\n",
       "\n",
       "    .dataframe tbody tr th {\n",
       "        vertical-align: top;\n",
       "    }\n",
       "\n",
       "    .dataframe thead th {\n",
       "        text-align: right;\n",
       "    }\n",
       "</style>\n",
       "<table border=\"1\" class=\"dataframe\">\n",
       "  <thead>\n",
       "    <tr style=\"text-align: right;\">\n",
       "      <th></th>\n",
       "      <th>Output (S)</th>\n",
       "      <th>Ia</th>\n",
       "      <th>Ib</th>\n",
       "      <th>Ic</th>\n",
       "      <th>Va</th>\n",
       "      <th>Vb</th>\n",
       "      <th>Vc</th>\n",
       "      <th>Unnamed: 7</th>\n",
       "      <th>Unnamed: 8</th>\n",
       "    </tr>\n",
       "  </thead>\n",
       "  <tbody>\n",
       "    <tr>\n",
       "      <th>0</th>\n",
       "      <td>0</td>\n",
       "      <td>-170.472196</td>\n",
       "      <td>9.219613</td>\n",
       "      <td>161.252583</td>\n",
       "      <td>0.054490</td>\n",
       "      <td>-0.659921</td>\n",
       "      <td>0.605431</td>\n",
       "      <td>NaN</td>\n",
       "      <td>NaN</td>\n",
       "    </tr>\n",
       "    <tr>\n",
       "      <th>1</th>\n",
       "      <td>0</td>\n",
       "      <td>-122.235754</td>\n",
       "      <td>6.168667</td>\n",
       "      <td>116.067087</td>\n",
       "      <td>0.102000</td>\n",
       "      <td>-0.628612</td>\n",
       "      <td>0.526202</td>\n",
       "      <td>NaN</td>\n",
       "      <td>NaN</td>\n",
       "    </tr>\n",
       "    <tr>\n",
       "      <th>2</th>\n",
       "      <td>0</td>\n",
       "      <td>-90.161474</td>\n",
       "      <td>3.813632</td>\n",
       "      <td>86.347841</td>\n",
       "      <td>0.141026</td>\n",
       "      <td>-0.605277</td>\n",
       "      <td>0.464251</td>\n",
       "      <td>NaN</td>\n",
       "      <td>NaN</td>\n",
       "    </tr>\n",
       "    <tr>\n",
       "      <th>3</th>\n",
       "      <td>0</td>\n",
       "      <td>-79.904916</td>\n",
       "      <td>2.398803</td>\n",
       "      <td>77.506112</td>\n",
       "      <td>0.156272</td>\n",
       "      <td>-0.602235</td>\n",
       "      <td>0.445963</td>\n",
       "      <td>NaN</td>\n",
       "      <td>NaN</td>\n",
       "    </tr>\n",
       "    <tr>\n",
       "      <th>4</th>\n",
       "      <td>0</td>\n",
       "      <td>-63.885255</td>\n",
       "      <td>0.590667</td>\n",
       "      <td>63.294587</td>\n",
       "      <td>0.180451</td>\n",
       "      <td>-0.591501</td>\n",
       "      <td>0.411050</td>\n",
       "      <td>NaN</td>\n",
       "      <td>NaN</td>\n",
       "    </tr>\n",
       "    <tr>\n",
       "      <th>...</th>\n",
       "      <td>...</td>\n",
       "      <td>...</td>\n",
       "      <td>...</td>\n",
       "      <td>...</td>\n",
       "      <td>...</td>\n",
       "      <td>...</td>\n",
       "      <td>...</td>\n",
       "      <td>...</td>\n",
       "      <td>...</td>\n",
       "    </tr>\n",
       "    <tr>\n",
       "      <th>11996</th>\n",
       "      <td>0</td>\n",
       "      <td>-66.237921</td>\n",
       "      <td>38.457041</td>\n",
       "      <td>24.912239</td>\n",
       "      <td>0.094421</td>\n",
       "      <td>-0.552019</td>\n",
       "      <td>0.457598</td>\n",
       "      <td>NaN</td>\n",
       "      <td>NaN</td>\n",
       "    </tr>\n",
       "    <tr>\n",
       "      <th>11997</th>\n",
       "      <td>0</td>\n",
       "      <td>-65.849493</td>\n",
       "      <td>37.465454</td>\n",
       "      <td>25.515675</td>\n",
       "      <td>0.103778</td>\n",
       "      <td>-0.555186</td>\n",
       "      <td>0.451407</td>\n",
       "      <td>NaN</td>\n",
       "      <td>NaN</td>\n",
       "    </tr>\n",
       "    <tr>\n",
       "      <th>11998</th>\n",
       "      <td>0</td>\n",
       "      <td>-65.446698</td>\n",
       "      <td>36.472055</td>\n",
       "      <td>26.106554</td>\n",
       "      <td>0.113107</td>\n",
       "      <td>-0.558211</td>\n",
       "      <td>0.445104</td>\n",
       "      <td>NaN</td>\n",
       "      <td>NaN</td>\n",
       "    </tr>\n",
       "    <tr>\n",
       "      <th>11999</th>\n",
       "      <td>0</td>\n",
       "      <td>-65.029633</td>\n",
       "      <td>35.477088</td>\n",
       "      <td>26.684731</td>\n",
       "      <td>0.122404</td>\n",
       "      <td>-0.561094</td>\n",
       "      <td>0.438690</td>\n",
       "      <td>NaN</td>\n",
       "      <td>NaN</td>\n",
       "    </tr>\n",
       "    <tr>\n",
       "      <th>12000</th>\n",
       "      <td>0</td>\n",
       "      <td>-64.598401</td>\n",
       "      <td>34.480799</td>\n",
       "      <td>27.250065</td>\n",
       "      <td>0.131669</td>\n",
       "      <td>-0.563835</td>\n",
       "      <td>0.432166</td>\n",
       "      <td>NaN</td>\n",
       "      <td>NaN</td>\n",
       "    </tr>\n",
       "  </tbody>\n",
       "</table>\n",
       "<p>12001 rows × 9 columns</p>\n",
       "</div>"
      ],
      "text/plain": [
       "       Output (S)          Ia         Ib          Ic        Va        Vb  \\\n",
       "0               0 -170.472196   9.219613  161.252583  0.054490 -0.659921   \n",
       "1               0 -122.235754   6.168667  116.067087  0.102000 -0.628612   \n",
       "2               0  -90.161474   3.813632   86.347841  0.141026 -0.605277   \n",
       "3               0  -79.904916   2.398803   77.506112  0.156272 -0.602235   \n",
       "4               0  -63.885255   0.590667   63.294587  0.180451 -0.591501   \n",
       "...           ...         ...        ...         ...       ...       ...   \n",
       "11996           0  -66.237921  38.457041   24.912239  0.094421 -0.552019   \n",
       "11997           0  -65.849493  37.465454   25.515675  0.103778 -0.555186   \n",
       "11998           0  -65.446698  36.472055   26.106554  0.113107 -0.558211   \n",
       "11999           0  -65.029633  35.477088   26.684731  0.122404 -0.561094   \n",
       "12000           0  -64.598401  34.480799   27.250065  0.131669 -0.563835   \n",
       "\n",
       "             Vc  Unnamed: 7  Unnamed: 8  \n",
       "0      0.605431         NaN         NaN  \n",
       "1      0.526202         NaN         NaN  \n",
       "2      0.464251         NaN         NaN  \n",
       "3      0.445963         NaN         NaN  \n",
       "4      0.411050         NaN         NaN  \n",
       "...         ...         ...         ...  \n",
       "11996  0.457598         NaN         NaN  \n",
       "11997  0.451407         NaN         NaN  \n",
       "11998  0.445104         NaN         NaN  \n",
       "11999  0.438690         NaN         NaN  \n",
       "12000  0.432166         NaN         NaN  \n",
       "\n",
       "[12001 rows x 9 columns]"
      ]
     },
     "execution_count": 3,
     "metadata": {},
     "output_type": "execute_result"
    }
   ],
   "source": [
    "data"
   ]
  },
  {
   "cell_type": "code",
   "execution_count": 4,
   "id": "dede8129",
   "metadata": {},
   "outputs": [
    {
     "data": {
      "text/plain": [
       "(12001, 9)"
      ]
     },
     "execution_count": 4,
     "metadata": {},
     "output_type": "execute_result"
    }
   ],
   "source": [
    "data.shape"
   ]
  },
  {
   "cell_type": "code",
   "execution_count": 6,
   "id": "690cf6dd",
   "metadata": {},
   "outputs": [],
   "source": [
    "data.drop(['Unnamed: 7','Unnamed: 8'] , axis=1 ,inplace= True)"
   ]
  },
  {
   "cell_type": "code",
   "execution_count": 7,
   "id": "99b4e3b4",
   "metadata": {},
   "outputs": [
    {
     "data": {
      "text/html": [
       "<div>\n",
       "<style scoped>\n",
       "    .dataframe tbody tr th:only-of-type {\n",
       "        vertical-align: middle;\n",
       "    }\n",
       "\n",
       "    .dataframe tbody tr th {\n",
       "        vertical-align: top;\n",
       "    }\n",
       "\n",
       "    .dataframe thead th {\n",
       "        text-align: right;\n",
       "    }\n",
       "</style>\n",
       "<table border=\"1\" class=\"dataframe\">\n",
       "  <thead>\n",
       "    <tr style=\"text-align: right;\">\n",
       "      <th></th>\n",
       "      <th>Output (S)</th>\n",
       "      <th>Ia</th>\n",
       "      <th>Ib</th>\n",
       "      <th>Ic</th>\n",
       "      <th>Va</th>\n",
       "      <th>Vb</th>\n",
       "      <th>Vc</th>\n",
       "    </tr>\n",
       "  </thead>\n",
       "  <tbody>\n",
       "    <tr>\n",
       "      <th>0</th>\n",
       "      <td>0</td>\n",
       "      <td>-170.472196</td>\n",
       "      <td>9.219613</td>\n",
       "      <td>161.252583</td>\n",
       "      <td>0.054490</td>\n",
       "      <td>-0.659921</td>\n",
       "      <td>0.605431</td>\n",
       "    </tr>\n",
       "    <tr>\n",
       "      <th>1</th>\n",
       "      <td>0</td>\n",
       "      <td>-122.235754</td>\n",
       "      <td>6.168667</td>\n",
       "      <td>116.067087</td>\n",
       "      <td>0.102000</td>\n",
       "      <td>-0.628612</td>\n",
       "      <td>0.526202</td>\n",
       "    </tr>\n",
       "    <tr>\n",
       "      <th>2</th>\n",
       "      <td>0</td>\n",
       "      <td>-90.161474</td>\n",
       "      <td>3.813632</td>\n",
       "      <td>86.347841</td>\n",
       "      <td>0.141026</td>\n",
       "      <td>-0.605277</td>\n",
       "      <td>0.464251</td>\n",
       "    </tr>\n",
       "    <tr>\n",
       "      <th>3</th>\n",
       "      <td>0</td>\n",
       "      <td>-79.904916</td>\n",
       "      <td>2.398803</td>\n",
       "      <td>77.506112</td>\n",
       "      <td>0.156272</td>\n",
       "      <td>-0.602235</td>\n",
       "      <td>0.445963</td>\n",
       "    </tr>\n",
       "    <tr>\n",
       "      <th>4</th>\n",
       "      <td>0</td>\n",
       "      <td>-63.885255</td>\n",
       "      <td>0.590667</td>\n",
       "      <td>63.294587</td>\n",
       "      <td>0.180451</td>\n",
       "      <td>-0.591501</td>\n",
       "      <td>0.411050</td>\n",
       "    </tr>\n",
       "    <tr>\n",
       "      <th>...</th>\n",
       "      <td>...</td>\n",
       "      <td>...</td>\n",
       "      <td>...</td>\n",
       "      <td>...</td>\n",
       "      <td>...</td>\n",
       "      <td>...</td>\n",
       "      <td>...</td>\n",
       "    </tr>\n",
       "    <tr>\n",
       "      <th>11996</th>\n",
       "      <td>0</td>\n",
       "      <td>-66.237921</td>\n",
       "      <td>38.457041</td>\n",
       "      <td>24.912239</td>\n",
       "      <td>0.094421</td>\n",
       "      <td>-0.552019</td>\n",
       "      <td>0.457598</td>\n",
       "    </tr>\n",
       "    <tr>\n",
       "      <th>11997</th>\n",
       "      <td>0</td>\n",
       "      <td>-65.849493</td>\n",
       "      <td>37.465454</td>\n",
       "      <td>25.515675</td>\n",
       "      <td>0.103778</td>\n",
       "      <td>-0.555186</td>\n",
       "      <td>0.451407</td>\n",
       "    </tr>\n",
       "    <tr>\n",
       "      <th>11998</th>\n",
       "      <td>0</td>\n",
       "      <td>-65.446698</td>\n",
       "      <td>36.472055</td>\n",
       "      <td>26.106554</td>\n",
       "      <td>0.113107</td>\n",
       "      <td>-0.558211</td>\n",
       "      <td>0.445104</td>\n",
       "    </tr>\n",
       "    <tr>\n",
       "      <th>11999</th>\n",
       "      <td>0</td>\n",
       "      <td>-65.029633</td>\n",
       "      <td>35.477088</td>\n",
       "      <td>26.684731</td>\n",
       "      <td>0.122404</td>\n",
       "      <td>-0.561094</td>\n",
       "      <td>0.438690</td>\n",
       "    </tr>\n",
       "    <tr>\n",
       "      <th>12000</th>\n",
       "      <td>0</td>\n",
       "      <td>-64.598401</td>\n",
       "      <td>34.480799</td>\n",
       "      <td>27.250065</td>\n",
       "      <td>0.131669</td>\n",
       "      <td>-0.563835</td>\n",
       "      <td>0.432166</td>\n",
       "    </tr>\n",
       "  </tbody>\n",
       "</table>\n",
       "<p>12001 rows × 7 columns</p>\n",
       "</div>"
      ],
      "text/plain": [
       "       Output (S)          Ia         Ib          Ic        Va        Vb  \\\n",
       "0               0 -170.472196   9.219613  161.252583  0.054490 -0.659921   \n",
       "1               0 -122.235754   6.168667  116.067087  0.102000 -0.628612   \n",
       "2               0  -90.161474   3.813632   86.347841  0.141026 -0.605277   \n",
       "3               0  -79.904916   2.398803   77.506112  0.156272 -0.602235   \n",
       "4               0  -63.885255   0.590667   63.294587  0.180451 -0.591501   \n",
       "...           ...         ...        ...         ...       ...       ...   \n",
       "11996           0  -66.237921  38.457041   24.912239  0.094421 -0.552019   \n",
       "11997           0  -65.849493  37.465454   25.515675  0.103778 -0.555186   \n",
       "11998           0  -65.446698  36.472055   26.106554  0.113107 -0.558211   \n",
       "11999           0  -65.029633  35.477088   26.684731  0.122404 -0.561094   \n",
       "12000           0  -64.598401  34.480799   27.250065  0.131669 -0.563835   \n",
       "\n",
       "             Vc  \n",
       "0      0.605431  \n",
       "1      0.526202  \n",
       "2      0.464251  \n",
       "3      0.445963  \n",
       "4      0.411050  \n",
       "...         ...  \n",
       "11996  0.457598  \n",
       "11997  0.451407  \n",
       "11998  0.445104  \n",
       "11999  0.438690  \n",
       "12000  0.432166  \n",
       "\n",
       "[12001 rows x 7 columns]"
      ]
     },
     "execution_count": 7,
     "metadata": {},
     "output_type": "execute_result"
    }
   ],
   "source": [
    "data"
   ]
  },
  {
   "cell_type": "code",
   "execution_count": 8,
   "id": "57978efd",
   "metadata": {},
   "outputs": [
    {
     "name": "stdout",
     "output_type": "stream",
     "text": [
      "<class 'pandas.core.frame.DataFrame'>\n",
      "RangeIndex: 12001 entries, 0 to 12000\n",
      "Data columns (total 7 columns):\n",
      " #   Column      Non-Null Count  Dtype  \n",
      "---  ------      --------------  -----  \n",
      " 0   Output (S)  12001 non-null  int64  \n",
      " 1   Ia          12001 non-null  float64\n",
      " 2   Ib          12001 non-null  float64\n",
      " 3   Ic          12001 non-null  float64\n",
      " 4   Va          12001 non-null  float64\n",
      " 5   Vb          12001 non-null  float64\n",
      " 6   Vc          12001 non-null  float64\n",
      "dtypes: float64(6), int64(1)\n",
      "memory usage: 656.4 KB\n"
     ]
    }
   ],
   "source": [
    "data.info()"
   ]
  },
  {
   "cell_type": "code",
   "execution_count": 10,
   "id": "a1448d70",
   "metadata": {},
   "outputs": [
    {
     "data": {
      "text/html": [
       "<div>\n",
       "<style scoped>\n",
       "    .dataframe tbody tr th:only-of-type {\n",
       "        vertical-align: middle;\n",
       "    }\n",
       "\n",
       "    .dataframe tbody tr th {\n",
       "        vertical-align: top;\n",
       "    }\n",
       "\n",
       "    .dataframe thead th {\n",
       "        text-align: right;\n",
       "    }\n",
       "</style>\n",
       "<table border=\"1\" class=\"dataframe\">\n",
       "  <thead>\n",
       "    <tr style=\"text-align: right;\">\n",
       "      <th></th>\n",
       "      <th>Output (S)</th>\n",
       "      <th>Ia</th>\n",
       "      <th>Ib</th>\n",
       "      <th>Ic</th>\n",
       "      <th>Va</th>\n",
       "      <th>Vb</th>\n",
       "      <th>Vc</th>\n",
       "    </tr>\n",
       "  </thead>\n",
       "  <tbody>\n",
       "    <tr>\n",
       "      <th>count</th>\n",
       "      <td>12001.000000</td>\n",
       "      <td>12001.000000</td>\n",
       "      <td>12001.000000</td>\n",
       "      <td>12001.000000</td>\n",
       "      <td>12001.000000</td>\n",
       "      <td>12001.000000</td>\n",
       "      <td>12001.000000</td>\n",
       "    </tr>\n",
       "    <tr>\n",
       "      <th>mean</th>\n",
       "      <td>0.457962</td>\n",
       "      <td>6.709369</td>\n",
       "      <td>-26.557793</td>\n",
       "      <td>22.353043</td>\n",
       "      <td>0.010517</td>\n",
       "      <td>-0.015498</td>\n",
       "      <td>0.004980</td>\n",
       "    </tr>\n",
       "    <tr>\n",
       "      <th>std</th>\n",
       "      <td>0.498250</td>\n",
       "      <td>377.158470</td>\n",
       "      <td>357.458613</td>\n",
       "      <td>302.052809</td>\n",
       "      <td>0.346221</td>\n",
       "      <td>0.357644</td>\n",
       "      <td>0.349272</td>\n",
       "    </tr>\n",
       "    <tr>\n",
       "      <th>min</th>\n",
       "      <td>0.000000</td>\n",
       "      <td>-883.542316</td>\n",
       "      <td>-900.526951</td>\n",
       "      <td>-883.357762</td>\n",
       "      <td>-0.620748</td>\n",
       "      <td>-0.659921</td>\n",
       "      <td>-0.612709</td>\n",
       "    </tr>\n",
       "    <tr>\n",
       "      <th>25%</th>\n",
       "      <td>0.000000</td>\n",
       "      <td>-64.348986</td>\n",
       "      <td>-51.421937</td>\n",
       "      <td>-54.562257</td>\n",
       "      <td>-0.237610</td>\n",
       "      <td>-0.313721</td>\n",
       "      <td>-0.278951</td>\n",
       "    </tr>\n",
       "    <tr>\n",
       "      <th>50%</th>\n",
       "      <td>0.000000</td>\n",
       "      <td>-3.239788</td>\n",
       "      <td>4.711283</td>\n",
       "      <td>-0.399419</td>\n",
       "      <td>0.002465</td>\n",
       "      <td>-0.007192</td>\n",
       "      <td>0.008381</td>\n",
       "    </tr>\n",
       "    <tr>\n",
       "      <th>75%</th>\n",
       "      <td>1.000000</td>\n",
       "      <td>53.823453</td>\n",
       "      <td>69.637787</td>\n",
       "      <td>45.274542</td>\n",
       "      <td>0.285078</td>\n",
       "      <td>0.248681</td>\n",
       "      <td>0.289681</td>\n",
       "    </tr>\n",
       "    <tr>\n",
       "      <th>max</th>\n",
       "      <td>1.000000</td>\n",
       "      <td>885.738571</td>\n",
       "      <td>889.868884</td>\n",
       "      <td>901.274261</td>\n",
       "      <td>0.609864</td>\n",
       "      <td>0.627875</td>\n",
       "      <td>0.608243</td>\n",
       "    </tr>\n",
       "  </tbody>\n",
       "</table>\n",
       "</div>"
      ],
      "text/plain": [
       "         Output (S)            Ia            Ib            Ic            Va  \\\n",
       "count  12001.000000  12001.000000  12001.000000  12001.000000  12001.000000   \n",
       "mean       0.457962      6.709369    -26.557793     22.353043      0.010517   \n",
       "std        0.498250    377.158470    357.458613    302.052809      0.346221   \n",
       "min        0.000000   -883.542316   -900.526951   -883.357762     -0.620748   \n",
       "25%        0.000000    -64.348986    -51.421937    -54.562257     -0.237610   \n",
       "50%        0.000000     -3.239788      4.711283     -0.399419      0.002465   \n",
       "75%        1.000000     53.823453     69.637787     45.274542      0.285078   \n",
       "max        1.000000    885.738571    889.868884    901.274261      0.609864   \n",
       "\n",
       "                 Vb            Vc  \n",
       "count  12001.000000  12001.000000  \n",
       "mean      -0.015498      0.004980  \n",
       "std        0.357644      0.349272  \n",
       "min       -0.659921     -0.612709  \n",
       "25%       -0.313721     -0.278951  \n",
       "50%       -0.007192      0.008381  \n",
       "75%        0.248681      0.289681  \n",
       "max        0.627875      0.608243  "
      ]
     },
     "execution_count": 10,
     "metadata": {},
     "output_type": "execute_result"
    }
   ],
   "source": [
    "data.describe()"
   ]
  },
  {
   "cell_type": "code",
   "execution_count": 11,
   "id": "ddea5020",
   "metadata": {},
   "outputs": [
    {
     "data": {
      "text/plain": [
       "Output (S)    0\n",
       "Ia            0\n",
       "Ib            0\n",
       "Ic            0\n",
       "Va            0\n",
       "Vb            0\n",
       "Vc            0\n",
       "dtype: int64"
      ]
     },
     "execution_count": 11,
     "metadata": {},
     "output_type": "execute_result"
    }
   ],
   "source": [
    "data.isnull().sum()"
   ]
  },
  {
   "cell_type": "code",
   "execution_count": 13,
   "id": "f0d31e5b",
   "metadata": {},
   "outputs": [],
   "source": [
    "corr=data.corr()"
   ]
  },
  {
   "cell_type": "code",
   "execution_count": 44,
   "id": "9e997e0f",
   "metadata": {},
   "outputs": [
    {
     "data": {
      "image/png": "[encoded data removed]",
      "text/plain": [
       "<Figure size 648x648 with 2 Axes>"
      ]
     },
     "metadata": {},
     "output_type": "display_data"
    }
   ],
   "source": [
    "sns.heatmap(corr , annot=True, cmap=\"YlGnBu\")\n",
    "sns.set(rc={'figure.figsize':(6,6)})"
   ]
  },
  {
   "cell_type": "code",
   "execution_count": 45,
   "id": "2893a017",
   "metadata": {},
   "outputs": [
    {
     "data": {
      "text/plain": [
       "<AxesSubplot:xlabel='Ia', ylabel='Count'>"
      ]
     },
     "execution_count": 45,
     "metadata": {},
     "output_type": "execute_result"
    },
    {
     "data": {
      "image/png": "[encoded data removed]",
      "text/plain": [
       "<Figure size 432x432 with 1 Axes>"
      ]
     },
     "metadata": {},
     "output_type": "display_data"
    }
   ],
   "source": [
    "sns.histplot(x='Ia',data=data)"
   ]
  },
  {
   "cell_type": "code",
   "execution_count": 46,
   "id": "898433a9",
   "metadata": {},
   "outputs": [
    {
     "data": {
      "text/plain": [
       "<AxesSubplot:xlabel='Output (S)', ylabel='count'>"
      ]
     },
     "execution_count": 46,
     "metadata": {},
     "output_type": "execute_result"
    },
    {
     "data": {
      "image/png": "[encoded data removed]",
      "text/plain": [
       "<Figure size 432x432 with 1 Axes>"
      ]
     },
     "metadata": {},
     "output_type": "display_data"
    }
   ],
   "source": [
    "sns.countplot(x='Output (S)', data=data)"
   ]
  },
  {
   "cell_type": "code",
   "execution_count": 49,
   "id": "003f93cd",
   "metadata": {},
   "outputs": [],
   "source": [
    "x= data.iloc[:,1:]\n",
    "y= data.iloc[:,0]"
   ]
  },
  {
   "cell_type": "code",
   "execution_count": 48,
   "id": "07eea985",
   "metadata": {},
   "outputs": [
    {
     "data": {
      "text/html": [
       "<div>\n",
       "<style scoped>\n",
       "    .dataframe tbody tr th:only-of-type {\n",
       "        vertical-align: middle;\n",
       "    }\n",
       "\n",
       "    .dataframe tbody tr th {\n",
       "        vertical-align: top;\n",
       "    }\n",
       "\n",
       "    .dataframe thead th {\n",
       "        text-align: right;\n",
       "    }\n",
       "</style>\n",
       "<table border=\"1\" class=\"dataframe\">\n",
       "  <thead>\n",
       "    <tr style=\"text-align: right;\">\n",
       "      <th></th>\n",
       "      <th>Ia</th>\n",
       "      <th>Ib</th>\n",
       "      <th>Ic</th>\n",
       "      <th>Va</th>\n",
       "      <th>Vb</th>\n",
       "      <th>Vc</th>\n",
       "    </tr>\n",
       "  </thead>\n",
       "  <tbody>\n",
       "    <tr>\n",
       "      <th>0</th>\n",
       "      <td>-170.472196</td>\n",
       "      <td>9.219613</td>\n",
       "      <td>161.252583</td>\n",
       "      <td>0.054490</td>\n",
       "      <td>-0.659921</td>\n",
       "      <td>0.605431</td>\n",
       "    </tr>\n",
       "    <tr>\n",
       "      <th>1</th>\n",
       "      <td>-122.235754</td>\n",
       "      <td>6.168667</td>\n",
       "      <td>116.067087</td>\n",
       "      <td>0.102000</td>\n",
       "      <td>-0.628612</td>\n",
       "      <td>0.526202</td>\n",
       "    </tr>\n",
       "    <tr>\n",
       "      <th>2</th>\n",
       "      <td>-90.161474</td>\n",
       "      <td>3.813632</td>\n",
       "      <td>86.347841</td>\n",
       "      <td>0.141026</td>\n",
       "      <td>-0.605277</td>\n",
       "      <td>0.464251</td>\n",
       "    </tr>\n",
       "    <tr>\n",
       "      <th>3</th>\n",
       "      <td>-79.904916</td>\n",
       "      <td>2.398803</td>\n",
       "      <td>77.506112</td>\n",
       "      <td>0.156272</td>\n",
       "      <td>-0.602235</td>\n",
       "      <td>0.445963</td>\n",
       "    </tr>\n",
       "    <tr>\n",
       "      <th>4</th>\n",
       "      <td>-63.885255</td>\n",
       "      <td>0.590667</td>\n",
       "      <td>63.294587</td>\n",
       "      <td>0.180451</td>\n",
       "      <td>-0.591501</td>\n",
       "      <td>0.411050</td>\n",
       "    </tr>\n",
       "    <tr>\n",
       "      <th>...</th>\n",
       "      <td>...</td>\n",
       "      <td>...</td>\n",
       "      <td>...</td>\n",
       "      <td>...</td>\n",
       "      <td>...</td>\n",
       "      <td>...</td>\n",
       "    </tr>\n",
       "    <tr>\n",
       "      <th>11996</th>\n",
       "      <td>-66.237921</td>\n",
       "      <td>38.457041</td>\n",
       "      <td>24.912239</td>\n",
       "      <td>0.094421</td>\n",
       "      <td>-0.552019</td>\n",
       "      <td>0.457598</td>\n",
       "    </tr>\n",
       "    <tr>\n",
       "      <th>11997</th>\n",
       "      <td>-65.849493</td>\n",
       "      <td>37.465454</td>\n",
       "      <td>25.515675</td>\n",
       "      <td>0.103778</td>\n",
       "      <td>-0.555186</td>\n",
       "      <td>0.451407</td>\n",
       "    </tr>\n",
       "    <tr>\n",
       "      <th>11998</th>\n",
       "      <td>-65.446698</td>\n",
       "      <td>36.472055</td>\n",
       "      <td>26.106554</td>\n",
       "      <td>0.113107</td>\n",
       "      <td>-0.558211</td>\n",
       "      <td>0.445104</td>\n",
       "    </tr>\n",
       "    <tr>\n",
       "      <th>11999</th>\n",
       "      <td>-65.029633</td>\n",
       "      <td>35.477088</td>\n",
       "      <td>26.684731</td>\n",
       "      <td>0.122404</td>\n",
       "      <td>-0.561094</td>\n",
       "      <td>0.438690</td>\n",
       "    </tr>\n",
       "    <tr>\n",
       "      <th>12000</th>\n",
       "      <td>-64.598401</td>\n",
       "      <td>34.480799</td>\n",
       "      <td>27.250065</td>\n",
       "      <td>0.131669</td>\n",
       "      <td>-0.563835</td>\n",
       "      <td>0.432166</td>\n",
       "    </tr>\n",
       "  </tbody>\n",
       "</table>\n",
       "<p>12001 rows × 6 columns</p>\n",
       "</div>"
      ],
      "text/plain": [
       "               Ia         Ib          Ic        Va        Vb        Vc\n",
       "0     -170.472196   9.219613  161.252583  0.054490 -0.659921  0.605431\n",
       "1     -122.235754   6.168667  116.067087  0.102000 -0.628612  0.526202\n",
       "2      -90.161474   3.813632   86.347841  0.141026 -0.605277  0.464251\n",
       "3      -79.904916   2.398803   77.506112  0.156272 -0.602235  0.445963\n",
       "4      -63.885255   0.590667   63.294587  0.180451 -0.591501  0.411050\n",
       "...           ...        ...         ...       ...       ...       ...\n",
       "11996  -66.237921  38.457041   24.912239  0.094421 -0.552019  0.457598\n",
       "11997  -65.849493  37.465454   25.515675  0.103778 -0.555186  0.451407\n",
       "11998  -65.446698  36.472055   26.106554  0.113107 -0.558211  0.445104\n",
       "11999  -65.029633  35.477088   26.684731  0.122404 -0.561094  0.438690\n",
       "12000  -64.598401  34.480799   27.250065  0.131669 -0.563835  0.432166\n",
       "\n",
       "[12001 rows x 6 columns]"
      ]
     },
     "execution_count": 48,
     "metadata": {},
     "output_type": "execute_result"
    }
   ],
   "source": [
    "x"
   ]
  },
  {
   "cell_type": "code",
   "execution_count": 50,
   "id": "a9826613",
   "metadata": {},
   "outputs": [
    {
     "data": {
      "text/plain": [
       "0        0\n",
       "1        0\n",
       "2        0\n",
       "3        0\n",
       "4        0\n",
       "        ..\n",
       "11996    0\n",
       "11997    0\n",
       "11998    0\n",
       "11999    0\n",
       "12000    0\n",
       "Name: Output (S), Length: 12001, dtype: int64"
      ]
     },
     "execution_count": 50,
     "metadata": {},
     "output_type": "execute_result"
    }
   ],
   "source": [
    "y"
   ]
  },
  {
   "cell_type": "code",
   "execution_count": 54,
   "id": "45669739",
   "metadata": {},
   "outputs": [],
   "source": [
    "from sklearn.model_selection import train_test_split\n",
    "from sklearn.metrics import accuracy_score,precision_score,recall_score,confusion_matrix\n",
    "from sklearn.preprocessing import StandardScaler\n",
    "from sklearn.ensemble import RandomForestClassifier"
   ]
  },
  {
   "cell_type": "code",
   "execution_count": 55,
   "id": "84310a34",
   "metadata": {},
   "outputs": [],
   "source": [
    "X_train, X_test,y_train,y_test = train_test_split(x,y, test_size = 0.2 , random_state = 42)\n"
   ]
  },
  {
   "cell_type": "code",
   "execution_count": 58,
   "id": "a1e7f38b",
   "metadata": {},
   "outputs": [],
   "source": [
    "rf = RandomForestClassifier()\n",
    "rf.fit(X_train,y_train)\n",
    "y_preds = rf.predict(X_test)"
   ]
  },
  {
   "cell_type": "code",
   "execution_count": 59,
   "id": "adf354a7",
   "metadata": {},
   "outputs": [],
   "source": [
    "accuracy= accuracy_score(y_preds, y_test)"
   ]
  },
  {
   "cell_type": "code",
   "execution_count": 60,
   "id": "b4cfb41a",
   "metadata": {},
   "outputs": [
    {
     "data": {
      "text/plain": [
       "0.9979175343606831"
      ]
     },
     "execution_count": 60,
     "metadata": {},
     "output_type": "execute_result"
    }
   ],
   "source": [
    "accuracy"
   ]
  },
  {
   "cell_type": "code",
   "execution_count": 61,
   "id": "99f470bf",
   "metadata": {},
   "outputs": [],
   "source": [
    "scaled = StandardScaler()\n",
    "X_train_scaled = scaled.fit_transform(X_train)\n",
    "X_test_scaled = scaled.transform(X_test)"
   ]
  },
  {
   "cell_type": "code",
   "execution_count": 62,
   "id": "c8dde5a5",
   "metadata": {},
   "outputs": [],
   "source": [
    "from sklearn.linear_model import LogisticRegression"
   ]
  },
  {
   "cell_type": "code",
   "execution_count": 63,
   "id": "0055dd6d",
   "metadata": {},
   "outputs": [],
   "source": [
    "LR= LogisticRegression()"
   ]
  },
  {
   "cell_type": "code",
   "execution_count": 64,
   "id": "c784950f",
   "metadata": {},
   "outputs": [
    {
     "data": {
      "text/plain": [
       "LogisticRegression()"
      ]
     },
     "execution_count": 64,
     "metadata": {},
     "output_type": "execute_result"
    }
   ],
   "source": [
    "LR.fit(X_train_scaled,y_train)"
   ]
  },
  {
   "cell_type": "code",
   "execution_count": 67,
   "id": "f9122a43",
   "metadata": {},
   "outputs": [],
   "source": [
    "y_pred=LR.predict(X_test_scaled)"
   ]
  },
  {
   "cell_type": "code",
   "execution_count": 68,
   "id": "6c170bec",
   "metadata": {},
   "outputs": [
    {
     "data": {
      "text/plain": [
       "array([0, 1, 0, ..., 1, 0, 0], dtype=int64)"
      ]
     },
     "execution_count": 68,
     "metadata": {},
     "output_type": "execute_result"
    }
   ],
   "source": [
    "y_pred"
   ]
  },
  {
   "cell_type": "code",
   "execution_count": 69,
   "id": "df331d30",
   "metadata": {},
   "outputs": [],
   "source": [
    "LR_Accuracy=accuracy_score(y_pred,y_test)"
   ]
  },
  {
   "cell_type": "code",
   "execution_count": 70,
   "id": "f0021cff",
   "metadata": {},
   "outputs": [
    {
     "data": {
      "text/plain": [
       "0.7371928363182008"
      ]
     },
     "execution_count": 70,
     "metadata": {},
     "output_type": "execute_result"
    }
   ],
   "source": [
    "LR_Accuracy"
   ]
  },
  {
   "cell_type": "code",
   "execution_count": 78,
   "id": "fc9c130f",
   "metadata": {},
   "outputs": [],
   "source": [
    "from sklearn.metrics import plot_confusion_matrix\n",
    "import matplotlib.pyplot as plt"
   ]
  },
  {
   "cell_type": "code",
   "execution_count": 79,
   "id": "93b789e1",
   "metadata": {
    "scrolled": true
   },
   "outputs": [
    {
     "data": {
      "image/png": "[encoded data removed]",
      "text/plain": [
       "<Figure size 432x432 with 2 Axes>"
      ]
     },
     "metadata": {},
     "output_type": "display_data"
    }
   ],
   "source": [
    "plot_confusion_matrix(LR,X_test_scaled,y_test)\n",
    "plt.show()"
   ]
  },
  {
   "cell_type": "code",
   "execution_count": 81,
   "id": "be6fd718",
   "metadata": {},
   "outputs": [
    {
     "data": {
      "text/plain": [
       "array([1], dtype=int64)"
      ]
     },
     "execution_count": 81,
     "metadata": {},
     "output_type": "execute_result"
    }
   ],
   "source": [
    "LR.predict([[22,22,33,44,55,66]])"
   ]
  },
  {
   "cell_type": "code",
   "execution_count": 82,
   "id": "b4b10a2b",
   "metadata": {},
   "outputs": [],
   "source": [
    "import pickle\n",
    "pickle_out = open(\"LR.pkl\",\"wb\")\n",
    "pickle.dump(LR, pickle_out)\n",
    "pickle_out.close()"
   ]
  },
  {
   "cell_type": "code",
   "execution_count": null,
   "id": "e5a85323",
   "metadata": {},
   "outputs": [],
   "source": []
  }
 ],
 "metadata": {
  "kernelspec": {
   "display_name": "Python 3",
   "language": "python",
   "name": "python3"
  },
  "language_info": {
   "codemirror_mode": {
    "name": "ipython",
    "version": 3
   },
   "file_extension": ".py",
   "mimetype": "text/x-python",
   "name": "python",
   "nbconvert_exporter": "python",
   "pygments_lexer": "ipython3",
   "version": "3.8.8"
  }
 },
 "nbformat": 4,
 "nbformat_minor": 5
}
